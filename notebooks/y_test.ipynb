{
 "cells": [
  {
   "cell_type": "code",
   "execution_count": 2,
   "id": "8124632e-1661-4711-960c-83c1c0fb1e66",
   "metadata": {},
   "outputs": [],
   "source": [
    "import numpy as np\n",
    "import joblib\n",
    "import import_ipynb\n",
    "from train_model import unpickled_model_gradient"
   ]
  },
  {
   "cell_type": "markdown",
   "id": "8b720a07-8a4e-49d4-b7e2-3385ebba8437",
   "metadata": {},
   "source": [
    "### Sugestão de preço"
   ]
  },
  {
   "cell_type": "code",
   "execution_count": 3,
   "id": "d15d8459-433b-4906-a4fc-a27b9c9f4627",
   "metadata": {},
   "outputs": [
    {
     "data": {
      "text/plain": [
       "['./gradient_boosting.pkl']"
      ]
     },
     "execution_count": 3,
     "metadata": {},
     "output_type": "execute_result"
    }
   ],
   "source": [
    "pathname = './gradient_boosting.pkl'\n",
    "joblib.dump(unpickled_model_gradient, pathname)"
   ]
  },
  {
   "cell_type": "code",
   "execution_count": 4,
   "id": "a3b9bb13-217b-414f-af9f-27ce9a863ef2",
   "metadata": {},
   "outputs": [],
   "source": [
    "load_model = joblib.load(pathname)"
   ]
  },
  {
   "cell_type": "code",
   "execution_count": 5,
   "id": "09fcb2f1-544e-4939-9c51-73d13c3ebdf2",
   "metadata": {},
   "outputs": [
    {
     "name": "stdout",
     "output_type": "stream",
     "text": [
      "Preço: 273.49\n"
     ]
    }
   ],
   "source": [
    "new_value = np.array([[40.75362, -73.98377]])\n",
    "price = load_model.predict(new_value)\n",
    "print('Preço: {:.2f}'.format(price[0]))"
   ]
  },
  {
   "cell_type": "markdown",
   "id": "d6c79dbe-a77d-4af5-97fa-3f9f7fd1a0fb",
   "metadata": {},
   "source": [
    "Para um apartamento com as seguintes características:\n",
    "\n",
    "- 'id': 2595\n",
    "- 'nome': 'Skylit Midtown Castle',\n",
    "- 'host_id': 2845,\n",
    "- 'host_name': 'Jennifer',\n",
    "- 'bairro_group': 'Manhattan',\n",
    "- 'bairro': 'Midtown',\n",
    "- 'latitude': 40.75362,\n",
    "- 'longitude': -73.98377,\n",
    "- 'room_type': 'Entire home/apt',\n",
    "- 'price': 225,\n",
    "- 'minimo_noites': 1,\n",
    "- 'numero_de_reviews': 45,\n",
    "- 'ultima_review': '2019-05-21',\n",
    "- 'reviews_por_mes': 0.38,\n",
    "- 'calculado_host_listings_count': 2,\n",
    "- 'disponibilidade_365': 355\n",
    "\n",
    "A sugestão de preço seria de US 273.49."
   ]
  },
  {
   "cell_type": "code",
   "execution_count": null,
   "id": "805a89b3-9d7a-4d5b-98e1-b18fc41f532f",
   "metadata": {},
   "outputs": [],
   "source": []
  }
 ],
 "metadata": {
  "kernelspec": {
   "display_name": "Python 3 (ipykernel)",
   "language": "python",
   "name": "python3"
  },
  "language_info": {
   "codemirror_mode": {
    "name": "ipython",
    "version": 3
   },
   "file_extension": ".py",
   "mimetype": "text/x-python",
   "name": "python",
   "nbconvert_exporter": "python",
   "pygments_lexer": "ipython3",
   "version": "3.9.13"
  }
 },
 "nbformat": 4,
 "nbformat_minor": 5
}
